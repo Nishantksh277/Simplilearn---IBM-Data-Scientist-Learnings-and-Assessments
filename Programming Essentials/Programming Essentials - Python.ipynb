{
 "cells": [
  {
   "cell_type": "code",
   "execution_count": 1,
   "id": "a6b493ec",
   "metadata": {},
   "outputs": [
    {
     "name": "stdout",
     "output_type": "stream",
     "text": [
      "Hello World\n"
     ]
    }
   ],
   "source": [
    "print('Hello World')"
   ]
  },
  {
   "cell_type": "code",
   "execution_count": 2,
   "id": "caf681b7",
   "metadata": {},
   "outputs": [
    {
     "name": "stdout",
     "output_type": "stream",
     "text": [
      "['False', 'None', 'True', 'and', 'as', 'assert', 'async', 'await', 'break', 'class', 'continue', 'def', 'del', 'elif', 'else', 'except', 'finally', 'for', 'from', 'global', 'if', 'import', 'in', 'is', 'lambda', 'nonlocal', 'not', 'or', 'pass', 'raise', 'return', 'try', 'while', 'with', 'yield']\n"
     ]
    }
   ],
   "source": [
    "# Import reserve keyword\n",
    "from keyword import kwlist\n",
    "print(kwlist)"
   ]
  },
  {
   "cell_type": "code",
   "execution_count": null,
   "id": "d3c8e5cb",
   "metadata": {},
   "outputs": [],
   "source": [
    "# File handling where we can read, write and append the any file\n",
    "f = open('test.txt', 'w') # w for write\n",
    "f.write('Hello World')\n",
    "f.close()"
   ]
  },
  {
   "cell_type": "code",
   "execution_count": 3,
   "id": "7801af5c",
   "metadata": {},
   "outputs": [
    {
     "name": "stdout",
     "output_type": "stream",
     "text": [
      "Hello World\n"
     ]
    }
   ],
   "source": [
    "# Read a file\n",
    "f = open('test.txt', 'r') # r for read\n",
    "print(f.read())\n",
    "f.close()"
   ]
  },
  {
   "cell_type": "code",
   "execution_count": 4,
   "id": "6bd6f319",
   "metadata": {},
   "outputs": [],
   "source": [
    "# Append a file\n",
    "f = open('test.txt', 'a') # a for append\n",
    "f.write('Hello World')\n",
    "f.close()"
   ]
  },
  {
   "cell_type": "code",
   "execution_count": 9,
   "id": "4ac2c812",
   "metadata": {},
   "outputs": [
    {
     "name": "stdout",
     "output_type": "stream",
     "text": [
      "Hi My Name Is Nishant \n",
      "I am an Aspiring Data Analyst\n"
     ]
    }
   ],
   "source": [
    "a = 'Hi My Name Is Nishant \\nI am an Aspiring Data Analyst'\n",
    "print(a)"
   ]
  },
  {
   "cell_type": "code",
   "execution_count": null,
   "id": "a9809486",
   "metadata": {},
   "outputs": [
    {
     "name": "stdout",
     "output_type": "stream",
     "text": [
      "a is greater than b\n"
     ]
    }
   ],
   "source": [
    "# If, Else, Ladder\n",
    "a = 300\n",
    "b = 20\n",
    "\n",
    "if a > b:\n",
    "    print('a is greater than b')\n",
    "else:\n",
    "    print('b is greater than a')"
   ]
  },
  {
   "cell_type": "code",
   "execution_count": 12,
   "id": "4e69ff2a",
   "metadata": {},
   "outputs": [
    {
     "name": "stdout",
     "output_type": "stream",
     "text": [
      "2\n"
     ]
    }
   ],
   "source": [
    "# If, Else and Elif ladder\n",
    "a = 10\n",
    "b = 20\n",
    "c = 30\n",
    "\n",
    "if a > b: c = 0\n",
    "elif b > c: c = 1\n",
    "else: c = 2\n",
    "\n",
    "print(c)"
   ]
  },
  {
   "cell_type": "code",
   "execution_count": 13,
   "id": "5794d511",
   "metadata": {},
   "outputs": [
    {
     "name": "stdout",
     "output_type": "stream",
     "text": [
      "Your Grade is C\n"
     ]
    }
   ],
   "source": [
    "Marks = int(input('Enter Your Marks: '))\n",
    "\n",
    "if Marks >= 90:\n",
    "    print('Your Grade is A')\n",
    "elif Marks >= 80:\n",
    "    print('Your Grade is B')\n",
    "elif Marks >= 70:\n",
    "    print('Your Grade is C')\n",
    "elif Marks >= 60:\n",
    "    print('Your Grade is D')\n",
    "else:\n",
    "    print('Your Grade is F')"
   ]
  },
  {
   "cell_type": "code",
   "execution_count": 14,
   "id": "42b126ef",
   "metadata": {},
   "outputs": [
    {
     "name": "stdout",
     "output_type": "stream",
     "text": [
      "Hi\n",
      "Hi\n",
      "Hi\n",
      "Hi\n",
      "Hi\n",
      "Hi\n",
      "Hi\n",
      "Hi\n",
      "Hi\n",
      "Hi\n"
     ]
    }
   ],
   "source": [
    "# print 'Hi' 10 times\n",
    "for i in range(10):\n",
    "    print('Hi')"
   ]
  },
  {
   "cell_type": "code",
   "execution_count": 15,
   "id": "ae9f8a34",
   "metadata": {},
   "outputs": [
    {
     "name": "stdout",
     "output_type": "stream",
     "text": [
      "p\n",
      "y\n",
      "t\n",
      "h\n",
      "o\n",
      "n\n"
     ]
    }
   ],
   "source": [
    "string = 'python'\n",
    "for i in string:\n",
    "    print(i)"
   ]
  },
  {
   "cell_type": "code",
   "execution_count": 16,
   "id": "0aa18f93",
   "metadata": {},
   "outputs": [
    {
     "name": "stdout",
     "output_type": "stream",
     "text": [
      "Apple\n",
      "A\n",
      "p\n",
      "p\n",
      "l\n",
      "e\n",
      "Orange\n",
      "O\n",
      "r\n",
      "a\n",
      "n\n",
      "g\n",
      "e\n",
      "Mango\n",
      "M\n",
      "a\n",
      "n\n",
      "g\n",
      "o\n"
     ]
    }
   ],
   "source": [
    "my_list = ['Apple', 'Orange', 'Mango']\n",
    "\n",
    "for i in my_list:\n",
    "    print(i)\n",
    "    for j in (i):\n",
    "        print(j)\n"
   ]
  },
  {
   "cell_type": "code",
   "execution_count": 17,
   "id": "da805948",
   "metadata": {},
   "outputs": [
    {
     "name": "stdout",
     "output_type": "stream",
     "text": [
      "P\n",
      "y\n",
      "t\n"
     ]
    }
   ],
   "source": [
    "string = 'Python'\n",
    "\n",
    "for i in string:\n",
    "    if i == 'h':\n",
    "        break\n",
    "    print(i)"
   ]
  },
  {
   "cell_type": "code",
   "execution_count": 18,
   "id": "d5407337",
   "metadata": {},
   "outputs": [
    {
     "name": "stdout",
     "output_type": "stream",
     "text": [
      "P\n",
      "y\n",
      "t\n",
      "o\n",
      "n\n"
     ]
    }
   ],
   "source": [
    "string = 'Python'\n",
    "\n",
    "for i in string:\n",
    "    if i == 'h':\n",
    "        continue\n",
    "    print(i)"
   ]
  },
  {
   "cell_type": "code",
   "execution_count": 19,
   "id": "31d51128",
   "metadata": {},
   "outputs": [
    {
     "name": "stdout",
     "output_type": "stream",
     "text": [
      "Apple\n",
      "Orange\n",
      "Mango\n",
      "List Completed\n"
     ]
    }
   ],
   "source": [
    "# Else Statement in loops\n",
    "my_list = ['Apple', 'Orange', 'Mango']\n",
    "\n",
    "for i in my_list:\n",
    "    print(i)\n",
    "else:\n",
    "    print('List Completed')"
   ]
  },
  {
   "cell_type": "code",
   "execution_count": 21,
   "id": "45d6dfc6",
   "metadata": {},
   "outputs": [
    {
     "name": "stdout",
     "output_type": "stream",
     "text": [
      "Number not found\n"
     ]
    }
   ],
   "source": [
    "number = [1, 2, 3, 4, 5, 6, 7, 8, 9, 10]\n",
    "\n",
    "for i in number:\n",
    "    if i == 12:\n",
    "        print('Number found')\n",
    "        break\n",
    "else:\n",
    "    print('Number not found')"
   ]
  },
  {
   "cell_type": "code",
   "execution_count": 22,
   "id": "2bfff621",
   "metadata": {},
   "outputs": [
    {
     "name": "stdout",
     "output_type": "stream",
     "text": [
      "30\n"
     ]
    }
   ],
   "source": [
    "# Functions\n",
    "def add(a, b):\n",
    "    return a + b\n",
    "\n",
    "print(add(10, 20))"
   ]
  },
  {
   "cell_type": "code",
   "execution_count": 23,
   "id": "2501410b",
   "metadata": {},
   "outputs": [
    {
     "name": "stdout",
     "output_type": "stream",
     "text": [
      "500\n"
     ]
    }
   ],
   "source": [
    "def multiply(a, b):\n",
    "    return a * b\n",
    "print(multiply(10,50))"
   ]
  },
  {
   "cell_type": "code",
   "execution_count": 24,
   "id": "e5944561",
   "metadata": {},
   "outputs": [
    {
     "name": "stdout",
     "output_type": "stream",
     "text": [
      "Hello Nishant\n",
      "Hi Nishant\n"
     ]
    }
   ],
   "source": [
    "def greetings(name, greeting = 'Hello'):\n",
    "    print(greeting + ' ' + name)\n",
    "\n",
    "greetings('Nishant')\n",
    "greetings('Nishant', 'Hi')"
   ]
  },
  {
   "cell_type": "code",
   "execution_count": null,
   "id": "b8092532",
   "metadata": {},
   "outputs": [],
   "source": [
    "def suM_of_numbers(*num): # *args, Takes any number of arguments\n",
    "    sum = 0\n",
    "    for j in num:\n",
    "        sum += j\n",
    "    print(sum)"
   ]
  },
  {
   "cell_type": "code",
   "execution_count": 31,
   "id": "e879a47a",
   "metadata": {},
   "outputs": [
    {
     "name": "stdout",
     "output_type": "stream",
     "text": [
      "2564885855862458686945258584587455825581477424007008672706209\n"
     ]
    }
   ],
   "source": [
    "suM_of_numbers(10,20,55,89,57,1000000000000, 98563214752356, 8855447722311441144, 2564885855862458686945258584587455825581468568459723146512478)"
   ]
  },
  {
   "cell_type": "code",
   "execution_count": 32,
   "id": "49669b1b",
   "metadata": {},
   "outputs": [
    {
     "name": "stdout",
     "output_type": "stream",
     "text": [
      "100\n"
     ]
    }
   ],
   "source": [
    "# Preapre a function which takes n number of arguments and it has to print the highest number\n",
    "\n",
    "def highest_number(*num):\n",
    "    max = 0\n",
    "    for i in num:\n",
    "        if i > max:\n",
    "            max = i\n",
    "    print(max)\n",
    "    \n",
    "highest_number(10,20,30,40,50,60,70,80,90,100)"
   ]
  },
  {
   "cell_type": "code",
   "execution_count": 37,
   "id": "61d0292c",
   "metadata": {},
   "outputs": [
    {
     "name": "stdout",
     "output_type": "stream",
     "text": [
      "name : Nishant\n",
      "age : 20\n",
      "city : Pune\n"
     ]
    }
   ],
   "source": [
    "def information(**info): # **kwargs\n",
    "    for i in info.keys():\n",
    "        print(i, ':', info[i])\n",
    "\n",
    "    \n",
    "information(name = 'Nishant', age = 20, city = 'Pune')"
   ]
  },
  {
   "cell_type": "code",
   "execution_count": 38,
   "id": "d157de01",
   "metadata": {},
   "outputs": [
    {
     "name": "stdout",
     "output_type": "stream",
     "text": [
      "10\n"
     ]
    }
   ],
   "source": [
    "var = 10\n",
    "print(var)"
   ]
  },
  {
   "cell_type": "code",
   "execution_count": null,
   "id": "339c9be5",
   "metadata": {},
   "outputs": [],
   "source": [
    "def myfunc (inp):\n",
    "    lc = 30\n",
    "    print('Print lc', lc) # Local Variable\n",
    "    print(\"Print inp\", inp) # Global Variable\n",
    "    print(\"This is global var\", var) # Global Variable\n",
    "    "
   ]
  },
  {
   "cell_type": "code",
   "execution_count": 40,
   "id": "ac5754aa",
   "metadata": {},
   "outputs": [
    {
     "name": "stdout",
     "output_type": "stream",
     "text": [
      "Print lc 30\n",
      "Print inp 50\n",
      "This is global var 10\n"
     ]
    }
   ],
   "source": [
    "myfunc(50)"
   ]
  },
  {
   "cell_type": "code",
   "execution_count": 43,
   "id": "b7690f44",
   "metadata": {},
   "outputs": [
    {
     "name": "stdout",
     "output_type": "stream",
     "text": [
      "lc\n",
      "inp\n"
     ]
    }
   ],
   "source": [
    "print(\"lc\")\n",
    "print(\"inp\")"
   ]
  },
  {
   "cell_type": "code",
   "execution_count": 51,
   "id": "bbed2db4",
   "metadata": {},
   "outputs": [],
   "source": [
    "# Yield Statement\n",
    "def myfunc():\n",
    "    n = 1\n",
    "    print('First Iteration')\n",
    "    yield 'Number 1 : n = ' + str(n)\n",
    "\n",
    "    n += 2\n",
    "    print('Second Iteration')\n",
    "    yield 'Number 2 : n = ' + str(n)\n",
    "\n",
    "    n += 3\n",
    "    print('Third Iteration')\n",
    "    yield 'Number 3 : n = ' + str(n)"
   ]
  },
  {
   "cell_type": "code",
   "execution_count": 52,
   "id": "053dcd44",
   "metadata": {},
   "outputs": [],
   "source": [
    "gen = myfunc()"
   ]
  },
  {
   "cell_type": "code",
   "execution_count": 53,
   "id": "27da38cc",
   "metadata": {},
   "outputs": [
    {
     "name": "stdout",
     "output_type": "stream",
     "text": [
      "First Iteration\n",
      "Number 1 : n = 1\n"
     ]
    }
   ],
   "source": [
    "print(next(gen))"
   ]
  },
  {
   "cell_type": "code",
   "execution_count": 54,
   "id": "2ae0412c",
   "metadata": {},
   "outputs": [
    {
     "name": "stdout",
     "output_type": "stream",
     "text": [
      "Second Iteration\n",
      "Number 2 : n = 3\n"
     ]
    }
   ],
   "source": [
    "print(next(gen))"
   ]
  },
  {
   "cell_type": "code",
   "execution_count": 55,
   "id": "4a878a15",
   "metadata": {},
   "outputs": [
    {
     "name": "stdout",
     "output_type": "stream",
     "text": [
      "Third Iteration\n",
      "Number 3 : n = 6\n"
     ]
    }
   ],
   "source": [
    "print(next(gen))"
   ]
  },
  {
   "cell_type": "markdown",
   "id": "41e12b77",
   "metadata": {},
   "source": [
    "### Need to study Functions, Local and Global varible, i loop and for loop"
   ]
  },
  {
   "cell_type": "code",
   "execution_count": 57,
   "id": "bed801c3",
   "metadata": {},
   "outputs": [
    {
     "name": "stdout",
     "output_type": "stream",
     "text": [
      "Run 1:  [0, 1, 2]\n",
      "Run 2:  [0, 1, 2]\n",
      "Run 3:  [0, 1, 2]\n",
      "Run 4:  [0, 1, 2]\n",
      "Run 5:  [0, 1, 2]\n",
      "Run 6:  [0, 1, 2]\n",
      "Run 7:  [0, 1, 2]\n",
      "Run 8:  [0, 1, 2]\n",
      "Run 9:  [0, 1, 2]\n",
      "Run 10:  [0, 1, 2]\n"
     ]
    }
   ],
   "source": [
    "# I have a question like what if we have to define the gen for 10 or more than 10 times, \n",
    "# can we use a for loop here inside?\n",
    "\n",
    "def gen():\n",
    "    yield from range(3)  # yields 0, 1, 2\n",
    "\n",
    "# Call gen() 10 times\n",
    "for i in range(10):\n",
    "    print(f\"Run {i+1}: \", list(gen()))"
   ]
  },
  {
   "cell_type": "code",
   "execution_count": null,
   "id": "7b90befe",
   "metadata": {},
   "outputs": [
    {
     "name": "stdout",
     "output_type": "stream",
     "text": [
      "['ArithmeticError', 'AssertionError', 'AttributeError', 'BaseException', 'BaseExceptionGroup', 'BlockingIOError', 'BrokenPipeError', 'BufferError', 'BytesWarning', 'ChildProcessError', 'ConnectionAbortedError', 'ConnectionError', 'ConnectionRefusedError', 'ConnectionResetError', 'DeprecationWarning', 'EOFError', 'Ellipsis', 'EncodingWarning', 'EnvironmentError', 'Exception', 'ExceptionGroup', 'False', 'FileExistsError', 'FileNotFoundError', 'FloatingPointError', 'FutureWarning', 'GeneratorExit', 'IOError', 'ImportError', 'ImportWarning', 'IndentationError', 'IndexError', 'InterruptedError', 'IsADirectoryError', 'KeyError', 'KeyboardInterrupt', 'LookupError', 'MemoryError', 'ModuleNotFoundError', 'NameError', 'None', 'NotADirectoryError', 'NotImplemented', 'NotImplementedError', 'OSError', 'OverflowError', 'PendingDeprecationWarning', 'PermissionError', 'ProcessLookupError', 'PythonFinalizationError', 'RecursionError', 'ReferenceError', 'ResourceWarning', 'RuntimeError', 'RuntimeWarning', 'StopAsyncIteration', 'StopIteration', 'SyntaxError', 'SyntaxWarning', 'SystemError', 'SystemExit', 'TabError', 'TimeoutError', 'True', 'TypeError', 'UnboundLocalError', 'UnicodeDecodeError', 'UnicodeEncodeError', 'UnicodeError', 'UnicodeTranslateError', 'UnicodeWarning', 'UserWarning', 'ValueError', 'Warning', 'WindowsError', 'ZeroDivisionError', '_IncompleteInputError', '__IPYTHON__', '__build_class__', '__debug__', '__doc__', '__import__', '__loader__', '__name__', '__package__', '__spec__', 'abs', 'aiter', 'all', 'anext', 'any', 'ascii', 'bin', 'bool', 'breakpoint', 'bytearray', 'bytes', 'callable', 'chr', 'classmethod', 'compile', 'complex', 'copyright', 'credits', 'delattr', 'dict', 'dir', 'display', 'divmod', 'enumerate', 'eval', 'exec', 'execfile', 'filter', 'float', 'format', 'frozenset', 'get_ipython', 'getattr', 'globals', 'hasattr', 'hash', 'help', 'hex', 'id', 'input', 'int', 'isinstance', 'issubclass', 'iter', 'len', 'license', 'list', 'locals', 'map', 'max', 'memoryview', 'min', 'next', 'object', 'oct', 'open', 'ord', 'pow', 'print', 'property', 'range', 'repr', 'reversed', 'round', 'runfile', 'set', 'setattr', 'slice', 'sorted', 'staticmethod', 'str', 'sum', 'super', 'tuple', 'type', 'vars', 'zip']\n"
     ]
    }
   ],
   "source": [
    "print(dir(__builtins__)) # Built-in functions"
   ]
  },
  {
   "cell_type": "markdown",
   "id": "45c16812",
   "metadata": {},
   "source": [
    "### Lambda Function"
   ]
  },
  {
   "cell_type": "code",
   "execution_count": 59,
   "id": "ef302587",
   "metadata": {},
   "outputs": [],
   "source": [
    "add_10 = lambda x: x + 10"
   ]
  },
  {
   "cell_type": "code",
   "execution_count": 60,
   "id": "1c09ebad",
   "metadata": {},
   "outputs": [
    {
     "name": "stdout",
     "output_type": "stream",
     "text": [
      "20\n"
     ]
    }
   ],
   "source": [
    "print(add_10(10))"
   ]
  },
  {
   "cell_type": "code",
   "execution_count": null,
   "id": "f4209837",
   "metadata": {},
   "outputs": [],
   "source": [
    "# use a lambda function to find the Square of a number\n",
    "print(\"\")\n",
    "\n",
    "square = lambda x: x * x\n",
    "\n",
    "print(square(10))\n",
    "print(square(100))\n",
    "print(square(1000))\n"
   ]
  },
  {
   "cell_type": "code",
   "execution_count": 61,
   "id": "363e080f",
   "metadata": {},
   "outputs": [],
   "source": [
    "temp = [22, 45.3, 35.4, 44.7, 21.5]\n",
    "\n",
    "result = (list(map(lambda x: x * 1.8 + 32, temp)))"
   ]
  },
  {
   "cell_type": "code",
   "execution_count": 62,
   "id": "40dce951",
   "metadata": {},
   "outputs": [
    {
     "data": {
      "text/plain": [
       "[71.6, 113.53999999999999, 95.72, 112.46000000000001, 70.7]"
      ]
     },
     "execution_count": 62,
     "metadata": {},
     "output_type": "execute_result"
    }
   ],
   "source": [
    "result"
   ]
  },
  {
   "cell_type": "code",
   "execution_count": 64,
   "id": "52f65bf0",
   "metadata": {},
   "outputs": [
    {
     "name": "stdout",
     "output_type": "stream",
     "text": [
      "[2, 4, 6, 8, 10]\n"
     ]
    }
   ],
   "source": [
    "# filter Functions in Lambda\n",
    "\n",
    "numbers = [1, 2, 3, 4, 5, 6, 7, 8, 9, 10]\n",
    "\n",
    "result = list(filter(lambda x: x % 2 == 0, numbers))\n",
    "print(result)"
   ]
  },
  {
   "cell_type": "code",
   "execution_count": 66,
   "id": "12619e31",
   "metadata": {},
   "outputs": [
    {
     "name": "stdout",
     "output_type": "stream",
     "text": [
      "55\n"
     ]
    }
   ],
   "source": [
    "# Reduce Functions in Lambda\n",
    "from functools import reduce\n",
    "\n",
    "numbers = [1, 2, 3, 4, 5, 6, 7, 8, 9, 10]\n",
    "\n",
    "result = reduce(lambda x, y: x+y, numbers)\n",
    "print(result)"
   ]
  },
  {
   "cell_type": "code",
   "execution_count": 1,
   "id": "caec63a9",
   "metadata": {},
   "outputs": [
    {
     "name": "stdout",
     "output_type": "stream",
     "text": [
      "[4, 16, 36, 64, 100]\n"
     ]
    }
   ],
   "source": [
    "# print list of squares of even numbers from 1 to 10\n",
    "\n",
    "def square(x):\n",
    "    return x * x\n",
    "\n",
    "numbers = [1, 2, 3, 4, 5, 6, 7, 8, 9, 10]\n",
    "\n",
    "result = list(map(square, filter(lambda x: x % 2 == 0, numbers)))\n",
    "print(result)"
   ]
  }
 ],
 "metadata": {
  "kernelspec": {
   "display_name": "Python 3",
   "language": "python",
   "name": "python3"
  },
  "language_info": {
   "codemirror_mode": {
    "name": "ipython",
    "version": 3
   },
   "file_extension": ".py",
   "mimetype": "text/x-python",
   "name": "python",
   "nbconvert_exporter": "python",
   "pygments_lexer": "ipython3",
   "version": "3.13.3"
  }
 },
 "nbformat": 4,
 "nbformat_minor": 5
}
